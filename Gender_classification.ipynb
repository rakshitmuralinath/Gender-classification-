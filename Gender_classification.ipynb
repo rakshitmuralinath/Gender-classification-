{
 "cells": [
  {
   "cell_type": "code",
   "execution_count": 1,
   "metadata": {},
   "outputs": [],
   "source": [
    "import numpy as np\n",
    "import pandas as pd\n",
    "from sklearn.model_selection import train_test_split\n",
    "from sklearn.metrics import accuracy_score\n",
    "from sklearn.model_selection import cross_val_score\n",
    "from sklearn.linear_model import LogisticRegression\n",
    "from sklearn.linear_model import LogisticRegressionCV\n",
    "from sklearn import preprocessing\n",
    "from sklearn.preprocessing import StandardScaler\n"
   ]
  },
  {
   "cell_type": "code",
   "execution_count": 2,
   "metadata": {},
   "outputs": [],
   "source": [
    "data = pd.read_csv('D:/projects/pythonProject/voice.csv',header=0)\n",
    "training, test =train_test_split(data,test_size=0.25)\n",
    "training_y = training['label']\n",
    "test_y = test['label']\n",
    "training_x= training.drop(columns=['label'])\n",
    "test_x= test.drop(columns=['label'])\n",
    "\n",
    "#preprocessing \n",
    "le = preprocessing.LabelEncoder()   # converting the strings to values\n",
    "le.fit(training_y)\n",
    "training_y=le.transform(training_y)\n",
    "test_y = le.transform(test_y)\n",
    "\n",
    "scaler = StandardScaler()    #normalization        \n",
    "scaler.fit(training_x)\n",
    "training_x = scaler.transform(training_x)\n",
    "test_x = scaler.transform(test_x)\n"
   ]
  },
  {
   "cell_type": "markdown",
   "metadata": {},
   "source": [
    "# Logistic Regression"
   ]
  },
  {
   "cell_type": "code",
   "execution_count": 3,
   "metadata": {},
   "outputs": [
    {
     "name": "stdout",
     "output_type": "stream",
     "text": [
      "Training Accuracy:96.97\n",
      "Test Accuracy:97.60422752353134\n"
     ]
    }
   ],
   "source": [
    "from sklearn.linear_model import LogisticRegression\n",
    "clf = LogisticRegression()\n",
    "cv_scores = cross_val_score(clf, training_x, training_y, cv=10,scoring='accuracy')\n",
    "lr_traning =round(cv_scores.mean(),6)*100\n",
    "cv_scores = cross_val_score(clf, test_x, test_y, cv=10,scoring='accuracy')\n",
    "lr_test = round(cv_scores.mean(),56)*100\n",
    "print(\"Training Accuracy:\"+str(lr_traning))\n",
    "print(\"Test Accuracy:\"+str(lr_test))"
   ]
  },
  {
   "cell_type": "markdown",
   "metadata": {},
   "source": [
    "# KNN"
   ]
  },
  {
   "cell_type": "code",
   "execution_count": 4,
   "metadata": {},
   "outputs": [
    {
     "name": "stdout",
     "output_type": "stream",
     "text": [
      "Training Accuracy:97.3483\n",
      "Test Accuracy:96.35585037325545\n"
     ]
    }
   ],
   "source": [
    "from sklearn.neighbors import KNeighborsClassifier\n",
    "\n",
    "knn_cv = KNeighborsClassifier(n_neighbors=1)\n",
    "cv_scores = cross_val_score(knn_cv, training_x, training_y, cv=10,scoring='accuracy')\n",
    "knn_traning =round(cv_scores.mean(),6)*100\n",
    "cv_scores = cross_val_score(knn_cv, test_x, test_y, cv=10,scoring='accuracy')\n",
    "knn_test = round(cv_scores.mean(),56)*100\n",
    "print(\"Training Accuracy:\"+str(knn_traning))\n",
    "print(\"Test Accuracy:\"+str(knn_test))"
   ]
  },
  {
   "cell_type": "markdown",
   "metadata": {},
   "source": [
    "# Naive Bayes"
   ]
  },
  {
   "cell_type": "code",
   "execution_count": 5,
   "metadata": {},
   "outputs": [
    {
     "name": "stdout",
     "output_type": "stream",
     "text": [
      "Training Accuracy:88.0073\n",
      "Test Accuracy:91.15729999999999\n"
     ]
    }
   ],
   "source": [
    "from sklearn.naive_bayes import GaussianNB\n",
    "clf = GaussianNB()\n",
    "cv_scores = cross_val_score(clf, training_x, training_y, cv=10,scoring='accuracy')\n",
    "nb_traning =round(cv_scores.mean(),6)*100\n",
    "cv_scores = cross_val_score(clf, test_x, test_y, cv=10,scoring='accuracy')\n",
    "nb_test = round(cv_scores.mean(),6)*100\n",
    "print(\"Training Accuracy:\"+str(nb_traning))\n",
    "print(\"Test Accuracy:\"+str(nb_test))"
   ]
  },
  {
   "cell_type": "markdown",
   "metadata": {},
   "source": [
    "# Decesion Tree"
   ]
  },
  {
   "cell_type": "code",
   "execution_count": 6,
   "metadata": {},
   "outputs": [
    {
     "name": "stdout",
     "output_type": "stream",
     "text": [
      "Training Accuracy:96.1706\n",
      "Test Accuracy:95.70840000000001\n"
     ]
    }
   ],
   "source": [
    "from sklearn import tree\n",
    "clf = tree.DecisionTreeClassifier()\n",
    "cv_scores = cross_val_score(clf, training_x, training_y, cv=10,scoring='accuracy')\n",
    "dt_traning =round(cv_scores.mean(),6)*100\n",
    "cv_scores = cross_val_score(clf, test_x, test_y, cv=10,scoring='accuracy')\n",
    "dt_test = round(cv_scores.mean(),6)*100\n",
    "print(\"Training Accuracy:\"+str(dt_traning))\n",
    "print(\"Test Accuracy:\"+str(dt_test))"
   ]
  },
  {
   "cell_type": "markdown",
   "metadata": {},
   "source": [
    "# Random Forest"
   ]
  },
  {
   "cell_type": "code",
   "execution_count": 7,
   "metadata": {},
   "outputs": [
    {
     "name": "stderr",
     "output_type": "stream",
     "text": [
      "C:\\Users\\Rakshit\\Anaconda3\\lib\\site-packages\\sklearn\\ensemble\\weight_boosting.py:29: DeprecationWarning: numpy.core.umath_tests is an internal NumPy module and should not be imported. It will be removed in a future NumPy release.\n",
      "  from numpy.core.umath_tests import inner1d\n"
     ]
    },
    {
     "name": "stdout",
     "output_type": "stream",
     "text": [
      "Training Accuracy:97.8538\n",
      "Test Accuracy:96.71640000000001\n"
     ]
    }
   ],
   "source": [
    "from sklearn.ensemble import RandomForestClassifier \n",
    "clf = RandomForestClassifier()\n",
    "cv_scores = cross_val_score(clf, training_x, training_y, cv=10,scoring='accuracy')\n",
    "rf_traning =round(cv_scores.mean(),6)*100\n",
    "cv_scores = cross_val_score(clf, test_x, test_y, cv=10,scoring='accuracy')\n",
    "rf_test = round(cv_scores.mean(),6)*100\n",
    "print(\"Training Accuracy:\"+str(rf_traning))\n",
    "print(\"Test Accuracy:\"+str(rf_test))"
   ]
  },
  {
   "cell_type": "markdown",
   "metadata": {},
   "source": [
    "# SVM"
   ]
  },
  {
   "cell_type": "code",
   "execution_count": 8,
   "metadata": {},
   "outputs": [
    {
     "name": "stdout",
     "output_type": "stream",
     "text": [
      "Training Accuracy:97.77080000000001\n",
      "Test Accuracy:97.4824\n"
     ]
    }
   ],
   "source": [
    "from sklearn.svm import SVC\n",
    "clf = SVC()\n",
    "cv_scores = cross_val_score(clf, training_x, training_y, cv=10,scoring='accuracy')\n",
    "svm_traning =round(cv_scores.mean(),6)*100\n",
    "cv_scores = cross_val_score(clf, test_x, test_y, cv=10,scoring='accuracy')\n",
    "svm_test = round(cv_scores.mean(),6)*100\n",
    "print(\"Training Accuracy:\"+str(svm_traning))\n",
    "print(\"Test Accuracy:\"+str(svm_test))"
   ]
  },
  {
   "cell_type": "markdown",
   "metadata": {},
   "source": [
    "# ANN"
   ]
  },
  {
   "cell_type": "code",
   "execution_count": 9,
   "metadata": {},
   "outputs": [
    {
     "name": "stderr",
     "output_type": "stream",
     "text": [
      "C:\\Users\\Rakshit\\Anaconda3\\lib\\site-packages\\sklearn\\neural_network\\multilayer_perceptron.py:564: ConvergenceWarning: Stochastic Optimizer: Maximum iterations (200) reached and the optimization hasn't converged yet.\n",
      "  % self.max_iter, ConvergenceWarning)\n",
      "C:\\Users\\Rakshit\\Anaconda3\\lib\\site-packages\\sklearn\\neural_network\\multilayer_perceptron.py:564: ConvergenceWarning: Stochastic Optimizer: Maximum iterations (200) reached and the optimization hasn't converged yet.\n",
      "  % self.max_iter, ConvergenceWarning)\n",
      "C:\\Users\\Rakshit\\Anaconda3\\lib\\site-packages\\sklearn\\neural_network\\multilayer_perceptron.py:564: ConvergenceWarning: Stochastic Optimizer: Maximum iterations (200) reached and the optimization hasn't converged yet.\n",
      "  % self.max_iter, ConvergenceWarning)\n",
      "C:\\Users\\Rakshit\\Anaconda3\\lib\\site-packages\\sklearn\\neural_network\\multilayer_perceptron.py:564: ConvergenceWarning: Stochastic Optimizer: Maximum iterations (200) reached and the optimization hasn't converged yet.\n",
      "  % self.max_iter, ConvergenceWarning)\n",
      "C:\\Users\\Rakshit\\Anaconda3\\lib\\site-packages\\sklearn\\neural_network\\multilayer_perceptron.py:564: ConvergenceWarning: Stochastic Optimizer: Maximum iterations (200) reached and the optimization hasn't converged yet.\n",
      "  % self.max_iter, ConvergenceWarning)\n",
      "C:\\Users\\Rakshit\\Anaconda3\\lib\\site-packages\\sklearn\\neural_network\\multilayer_perceptron.py:564: ConvergenceWarning: Stochastic Optimizer: Maximum iterations (200) reached and the optimization hasn't converged yet.\n",
      "  % self.max_iter, ConvergenceWarning)\n",
      "C:\\Users\\Rakshit\\Anaconda3\\lib\\site-packages\\sklearn\\neural_network\\multilayer_perceptron.py:564: ConvergenceWarning: Stochastic Optimizer: Maximum iterations (200) reached and the optimization hasn't converged yet.\n",
      "  % self.max_iter, ConvergenceWarning)\n",
      "C:\\Users\\Rakshit\\Anaconda3\\lib\\site-packages\\sklearn\\neural_network\\multilayer_perceptron.py:564: ConvergenceWarning: Stochastic Optimizer: Maximum iterations (200) reached and the optimization hasn't converged yet.\n",
      "  % self.max_iter, ConvergenceWarning)\n",
      "C:\\Users\\Rakshit\\Anaconda3\\lib\\site-packages\\sklearn\\neural_network\\multilayer_perceptron.py:564: ConvergenceWarning: Stochastic Optimizer: Maximum iterations (200) reached and the optimization hasn't converged yet.\n",
      "  % self.max_iter, ConvergenceWarning)\n",
      "C:\\Users\\Rakshit\\Anaconda3\\lib\\site-packages\\sklearn\\neural_network\\multilayer_perceptron.py:564: ConvergenceWarning: Stochastic Optimizer: Maximum iterations (200) reached and the optimization hasn't converged yet.\n",
      "  % self.max_iter, ConvergenceWarning)\n",
      "C:\\Users\\Rakshit\\Anaconda3\\lib\\site-packages\\sklearn\\neural_network\\multilayer_perceptron.py:564: ConvergenceWarning: Stochastic Optimizer: Maximum iterations (200) reached and the optimization hasn't converged yet.\n",
      "  % self.max_iter, ConvergenceWarning)\n",
      "C:\\Users\\Rakshit\\Anaconda3\\lib\\site-packages\\sklearn\\neural_network\\multilayer_perceptron.py:564: ConvergenceWarning: Stochastic Optimizer: Maximum iterations (200) reached and the optimization hasn't converged yet.\n",
      "  % self.max_iter, ConvergenceWarning)\n",
      "C:\\Users\\Rakshit\\Anaconda3\\lib\\site-packages\\sklearn\\neural_network\\multilayer_perceptron.py:564: ConvergenceWarning: Stochastic Optimizer: Maximum iterations (200) reached and the optimization hasn't converged yet.\n",
      "  % self.max_iter, ConvergenceWarning)\n",
      "C:\\Users\\Rakshit\\Anaconda3\\lib\\site-packages\\sklearn\\neural_network\\multilayer_perceptron.py:564: ConvergenceWarning: Stochastic Optimizer: Maximum iterations (200) reached and the optimization hasn't converged yet.\n",
      "  % self.max_iter, ConvergenceWarning)\n",
      "C:\\Users\\Rakshit\\Anaconda3\\lib\\site-packages\\sklearn\\neural_network\\multilayer_perceptron.py:564: ConvergenceWarning: Stochastic Optimizer: Maximum iterations (200) reached and the optimization hasn't converged yet.\n",
      "  % self.max_iter, ConvergenceWarning)\n",
      "C:\\Users\\Rakshit\\Anaconda3\\lib\\site-packages\\sklearn\\neural_network\\multilayer_perceptron.py:564: ConvergenceWarning: Stochastic Optimizer: Maximum iterations (200) reached and the optimization hasn't converged yet.\n",
      "  % self.max_iter, ConvergenceWarning)\n",
      "C:\\Users\\Rakshit\\Anaconda3\\lib\\site-packages\\sklearn\\neural_network\\multilayer_perceptron.py:564: ConvergenceWarning: Stochastic Optimizer: Maximum iterations (200) reached and the optimization hasn't converged yet.\n",
      "  % self.max_iter, ConvergenceWarning)\n"
     ]
    },
    {
     "name": "stdout",
     "output_type": "stream",
     "text": [
      "Training Accuracy:97.897\n",
      "Test Accuracy:97.4841\n"
     ]
    },
    {
     "name": "stderr",
     "output_type": "stream",
     "text": [
      "C:\\Users\\Rakshit\\Anaconda3\\lib\\site-packages\\sklearn\\neural_network\\multilayer_perceptron.py:564: ConvergenceWarning: Stochastic Optimizer: Maximum iterations (200) reached and the optimization hasn't converged yet.\n",
      "  % self.max_iter, ConvergenceWarning)\n"
     ]
    }
   ],
   "source": [
    "from sklearn.neural_network import MLPClassifier\n",
    "clf = MLPClassifier()\n",
    "cv_scores = cross_val_score(clf, training_x, training_y, cv=10,scoring='accuracy')\n",
    "ann_traning =round(cv_scores.mean(),6)*100\n",
    "cv_scores = cross_val_score(clf, test_x, test_y, cv=10,scoring='accuracy')\n",
    "ann_test = round(cv_scores.mean(),6)*100\n",
    "print(\"Training Accuracy:\"+str(ann_traning))\n",
    "print(\"Test Accuracy:\"+str(ann_test))"
   ]
  },
  {
   "cell_type": "markdown",
   "metadata": {},
   "source": [
    "# Accuracy Comparison"
   ]
  },
  {
   "cell_type": "code",
   "execution_count": 10,
   "metadata": {
    "scrolled": true
   },
   "outputs": [
    {
     "data": {
      "text/plain": [
       "<Figure size 640x480 with 1 Axes>"
      ]
     },
     "metadata": {},
     "output_type": "display_data"
    }
   ],
   "source": [
    "import matplotlib.pyplot as plt; plt.rcdefaults()\n",
    "import numpy as np\n",
    "import matplotlib.pyplot as plt\n",
    "import matplotlib.patches as mpatches\n",
    "\n",
    " \n",
    "objects = ('LR','','KNN','','NB','','RF','','D-TREE','','SVM','','ANN')\n",
    "y_pos = np.arange(14)\n",
    "performance = [97.727,lr_test,97.727,knn_test,89.394,nb_test,96.717,dt_test,97.601,rf_test,97.97,svm_test,98.358,ann_test]\n",
    "plt.bar(y_pos, performance, align='center',color=('red','blue','red','blue','red','blue','red','blue','red','blue','red','blue',))\n",
    "plt.xticks(y_pos, objects)\n",
    "plt.ylabel('Accuracy(%)')\n",
    "plt.xlabel('Classification Algorithms')\n",
    "red_patch = mpatches.Patch(color='red', label='Original Accuracy')\n",
    "blue_patch = mpatches.Patch(color='blue', label='Reproduced Accuracy')\n",
    "plt.legend(handles=[red_patch,blue_patch]) \n",
    "plt.show()"
   ]
  },
  {
   "cell_type": "markdown",
   "metadata": {},
   "source": [
    "# Parameter tuning -Grid search"
   ]
  },
  {
   "cell_type": "code",
   "execution_count": 11,
   "metadata": {},
   "outputs": [
    {
     "name": "stdout",
     "output_type": "stream",
     "text": [
      "Training Accuracy:97.8114\n",
      "Test Accuracy:98.48479999999999\n"
     ]
    }
   ],
   "source": [
    "from sklearn.model_selection import GridSearchCV\n",
    "from sklearn.svm import SVC\n",
    "from sklearn.neural_network import MLPClassifier\n",
    "from sklearn.metrics import classification_report\n",
    "from sklearn.metrics import accuracy_score\n",
    "\n",
    "\n",
    "#SVM\n",
    "svc = SVC()\n",
    "parameters = {'kernel':('linear', 'rbf','poly'), 'C':[0.3, 0.9],'gamma':[0.01,0.09]}\n",
    "clf = GridSearchCV(svc,parameters,cv=10,scoring='accuracy')\n",
    "clf.fit(training_x,training_y)\n",
    "gs_svm_training= round(clf.best_score_,6)*100\n",
    "y_pred = clf.predict(test_x)\n",
    "gs_svm_test = round(accuracy_score(test_y, y_pred),6)*100\n",
    "print(\"Training Accuracy:\"+str(gs_svm_training))\n",
    "print(\"Test Accuracy:\"+str(gs_svm_test))"
   ]
  },
  {
   "cell_type": "code",
   "execution_count": 12,
   "metadata": {},
   "outputs": [
    {
     "name": "stdout",
     "output_type": "stream",
     "text": [
      "SVC(C=0.9, cache_size=200, class_weight=None, coef0=0.0,\n",
      "  decision_function_shape='ovr', degree=3, gamma=0.09, kernel='rbf',\n",
      "  max_iter=-1, probability=False, random_state=None, shrinking=True,\n",
      "  tol=0.001, verbose=False)\n"
     ]
    }
   ],
   "source": [
    "print(clf.best_estimator_)"
   ]
  },
  {
   "cell_type": "code",
   "execution_count": 13,
   "metadata": {},
   "outputs": [
    {
     "name": "stderr",
     "output_type": "stream",
     "text": [
      "C:\\Users\\Rakshit\\Anaconda3\\lib\\site-packages\\sklearn\\neural_network\\multilayer_perceptron.py:564: ConvergenceWarning: Stochastic Optimizer: Maximum iterations (200) reached and the optimization hasn't converged yet.\n",
      "  % self.max_iter, ConvergenceWarning)\n",
      "C:\\Users\\Rakshit\\Anaconda3\\lib\\site-packages\\sklearn\\neural_network\\multilayer_perceptron.py:564: ConvergenceWarning: Stochastic Optimizer: Maximum iterations (200) reached and the optimization hasn't converged yet.\n",
      "  % self.max_iter, ConvergenceWarning)\n",
      "C:\\Users\\Rakshit\\Anaconda3\\lib\\site-packages\\sklearn\\neural_network\\multilayer_perceptron.py:564: ConvergenceWarning: Stochastic Optimizer: Maximum iterations (200) reached and the optimization hasn't converged yet.\n",
      "  % self.max_iter, ConvergenceWarning)\n",
      "C:\\Users\\Rakshit\\Anaconda3\\lib\\site-packages\\sklearn\\neural_network\\multilayer_perceptron.py:564: ConvergenceWarning: Stochastic Optimizer: Maximum iterations (200) reached and the optimization hasn't converged yet.\n",
      "  % self.max_iter, ConvergenceWarning)\n",
      "C:\\Users\\Rakshit\\Anaconda3\\lib\\site-packages\\sklearn\\neural_network\\multilayer_perceptron.py:564: ConvergenceWarning: Stochastic Optimizer: Maximum iterations (200) reached and the optimization hasn't converged yet.\n",
      "  % self.max_iter, ConvergenceWarning)\n",
      "C:\\Users\\Rakshit\\Anaconda3\\lib\\site-packages\\sklearn\\neural_network\\multilayer_perceptron.py:564: ConvergenceWarning: Stochastic Optimizer: Maximum iterations (200) reached and the optimization hasn't converged yet.\n",
      "  % self.max_iter, ConvergenceWarning)\n",
      "C:\\Users\\Rakshit\\Anaconda3\\lib\\site-packages\\sklearn\\neural_network\\multilayer_perceptron.py:564: ConvergenceWarning: Stochastic Optimizer: Maximum iterations (200) reached and the optimization hasn't converged yet.\n",
      "  % self.max_iter, ConvergenceWarning)\n"
     ]
    },
    {
     "name": "stdout",
     "output_type": "stream",
     "text": [
      "Training Accuracy:97.85350000000001\n",
      "Test Accuracy:98.2323\n"
     ]
    }
   ],
   "source": [
    "#ANN \n",
    "mlp = MLPClassifier()\n",
    "parameters = {'learning_rate_init':[0.001,0.004]}\n",
    "clf = GridSearchCV(mlp,parameters,cv=10,scoring='accuracy')\n",
    "clf.fit(training_x,training_y)\n",
    "gs_svm_training= round(clf.best_score_,6)*100\n",
    "y_pred = clf.predict(test_x)\n",
    "gs_svm_test = round(accuracy_score(test_y, y_pred),6)*100\n",
    "print(\"Training Accuracy:\"+str(gs_svm_training))\n",
    "print(\"Test Accuracy:\"+str(gs_svm_test))"
   ]
  },
  {
   "cell_type": "code",
   "execution_count": 14,
   "metadata": {},
   "outputs": [
    {
     "name": "stdout",
     "output_type": "stream",
     "text": [
      "MLPClassifier(activation='relu', alpha=0.0001, batch_size='auto', beta_1=0.9,\n",
      "       beta_2=0.999, early_stopping=False, epsilon=1e-08,\n",
      "       hidden_layer_sizes=(100,), learning_rate='constant',\n",
      "       learning_rate_init=0.004, max_iter=200, momentum=0.9,\n",
      "       nesterovs_momentum=True, power_t=0.5, random_state=None,\n",
      "       shuffle=True, solver='adam', tol=0.0001, validation_fraction=0.1,\n",
      "       verbose=False, warm_start=False)\n",
      "Wall time: 0 ns\n"
     ]
    }
   ],
   "source": [
    "%%time\n",
    "print(clf.best_estimator_)"
   ]
  },
  {
   "cell_type": "markdown",
   "metadata": {},
   "source": [
    "# Parameter Tuning - Randomized Search "
   ]
  },
  {
   "cell_type": "code",
   "execution_count": 15,
   "metadata": {},
   "outputs": [
    {
     "name": "stdout",
     "output_type": "stream",
     "text": [
      "Training Accuracy:97.8114\n",
      "Test Accuracy:98.48479999999999\n",
      "Wall time: 10.8 s\n"
     ]
    }
   ],
   "source": [
    "%%time\n",
    "from sklearn.model_selection import RandomizedSearchCV\n",
    "from sklearn.svm import SVC\n",
    "from sklearn.neural_network import MLPClassifier\n",
    "from sklearn.metrics import classification_report\n",
    "from sklearn.metrics import accuracy_score\n",
    "\n",
    "\n",
    "#SVM\n",
    "svc = SVC()\n",
    "parameters = {'kernel':('linear', 'rbf','poly'), 'C':[0.3, 0.9],'gamma':[0.01,0.09]}\n",
    "clf = RandomizedSearchCV(svc,parameters,cv=10,scoring='accuracy')\n",
    "clf.fit(training_x,training_y)\n",
    "gs_svm_training= round(clf.best_score_,6)*100\n",
    "y_pred = clf.predict(test_x)\n",
    "gs_svm_test = round(accuracy_score(test_y, y_pred),6)*100\n",
    "print(\"Training Accuracy:\"+str(gs_svm_training))\n",
    "print(\"Test Accuracy:\"+str(gs_svm_test))"
   ]
  },
  {
   "cell_type": "code",
   "execution_count": 17,
   "metadata": {},
   "outputs": [
    {
     "name": "stderr",
     "output_type": "stream",
     "text": [
      "C:\\Users\\Rakshit\\Anaconda3\\lib\\site-packages\\sklearn\\neural_network\\multilayer_perceptron.py:564: ConvergenceWarning: Stochastic Optimizer: Maximum iterations (200) reached and the optimization hasn't converged yet.\n",
      "  % self.max_iter, ConvergenceWarning)\n",
      "C:\\Users\\Rakshit\\Anaconda3\\lib\\site-packages\\sklearn\\neural_network\\multilayer_perceptron.py:564: ConvergenceWarning: Stochastic Optimizer: Maximum iterations (200) reached and the optimization hasn't converged yet.\n",
      "  % self.max_iter, ConvergenceWarning)\n",
      "C:\\Users\\Rakshit\\Anaconda3\\lib\\site-packages\\sklearn\\neural_network\\multilayer_perceptron.py:564: ConvergenceWarning: Stochastic Optimizer: Maximum iterations (200) reached and the optimization hasn't converged yet.\n",
      "  % self.max_iter, ConvergenceWarning)\n",
      "C:\\Users\\Rakshit\\Anaconda3\\lib\\site-packages\\sklearn\\neural_network\\multilayer_perceptron.py:564: ConvergenceWarning: Stochastic Optimizer: Maximum iterations (200) reached and the optimization hasn't converged yet.\n",
      "  % self.max_iter, ConvergenceWarning)\n",
      "C:\\Users\\Rakshit\\Anaconda3\\lib\\site-packages\\sklearn\\neural_network\\multilayer_perceptron.py:564: ConvergenceWarning: Stochastic Optimizer: Maximum iterations (200) reached and the optimization hasn't converged yet.\n",
      "  % self.max_iter, ConvergenceWarning)\n"
     ]
    },
    {
     "name": "stdout",
     "output_type": "stream",
     "text": [
      "Training Accuracy:97.9798\n",
      "Test Accuracy:98.1061\n",
      "Wall time: 17.6 s\n"
     ]
    }
   ],
   "source": [
    "%%time\n",
    "#ANN \n",
    "mlp = MLPClassifier()\n",
    "parameters = {'learning_rate_init':[0.001,0.004]}\n",
    "clf = GridSearchCV(mlp,parameters,cv=10,scoring='accuracy')\n",
    "clf.fit(training_x,training_y)\n",
    "gs_svm_training= round(clf.best_score_,6)*100\n",
    "y_pred = clf.predict(test_x)\n",
    "gs_svm_test = round(accuracy_score(test_y, y_pred),6)*100\n",
    "print(\"Training Accuracy:\"+str(gs_svm_training))\n",
    "print(\"Test Accuracy:\"+str(gs_svm_test))"
   ]
  },
  {
   "cell_type": "code",
   "execution_count": null,
   "metadata": {},
   "outputs": [],
   "source": []
  },
  {
   "cell_type": "code",
   "execution_count": null,
   "metadata": {},
   "outputs": [],
   "source": []
  }
 ],
 "metadata": {
  "kernelspec": {
   "display_name": "Python 3",
   "language": "python",
   "name": "python3"
  },
  "language_info": {
   "codemirror_mode": {
    "name": "ipython",
    "version": 3
   },
   "file_extension": ".py",
   "mimetype": "text/x-python",
   "name": "python",
   "nbconvert_exporter": "python",
   "pygments_lexer": "ipython3",
   "version": "3.7.0"
  }
 },
 "nbformat": 4,
 "nbformat_minor": 2
}
